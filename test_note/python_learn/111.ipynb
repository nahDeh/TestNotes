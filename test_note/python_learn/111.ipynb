{
 "cells": [
  {
   "cell_type": "code",
   "execution_count": 1,
   "metadata": {},
   "outputs": [
    {
     "name": "stdout",
     "output_type": "stream",
     "text": [
      "Gemini 回答：\n",
      "\n"
     ]
    }
   ],
   "source": [
    "# -*- coding: utf-8 -*-\n",
    "\n",
    "from selenium import webdriver # 导入 webdriver 包\n",
    "from selenium.webdriver.common.by import By\n",
    "from selenium.webdriver.support.ui import WebDriverWait\n",
    "from selenium.webdriver.support import expected_conditions as EC\n",
    "import time\n",
    "driver=webdriver.Chrome()\n",
    "# dr = webdriver.Firefox() # 初始化一个火狐浏览器实例：driver\n",
    "# dr=webdriver.Ie() #调用 IE 浏览器\n",
    "driver.maximize_window() # 最大化浏览器\n",
    "driver.implicitly_wait(30)\n",
    "driver.get(\"https://gemini.google.com/app\") # 通过 get()方法，打开一个 url 站点\n",
    "# ele_input=driver.find_element(By.ID, \"kw\")\n",
    "# ele_input.send_keys(\"Selenium 自动化测试\")\n",
    "# ele_baiduyixia=driver.find_element(By.ID, \"su\")\n",
    "# ele_baiduyixia.click()\n",
    "input_area = driver.find_element(By.CSS_SELECTOR, \"div[data-placeholder='问一问 Gemini']\")\n",
    "input_area.send_keys(\"你好，Gemini！\")\n",
    "# 等待最多10秒，直到 aria-label='发送' 的按钮变为可点击状态\n",
    "wait = WebDriverWait(driver, 20)\n",
    "send_button = wait.until(EC.element_to_be_clickable((By.CSS_SELECTOR, \"button[aria-label='发送']\")))\n",
    "# 然后再执行点击操作\n",
    "send_button.click()\n",
    "\n",
    "message = wait.until(EC.presence_of_element_located((By.CLASS_NAME, \"model-response-text\")))\n",
    "out_text = message.text\n",
    "\n",
    "print(\"Gemini 回答：\")\n",
    "print(out_text)\n",
    "\n",
    "\n",
    "time.sleep(50)\n",
    "driver.quit() # 关闭并退出浏览器"
   ]
  }
 ],
 "metadata": {
  "kernelspec": {
   "display_name": "Python 3",
   "language": "python",
   "name": "python3"
  },
  "language_info": {
   "codemirror_mode": {
    "name": "ipython",
    "version": 3
   },
   "file_extension": ".py",
   "mimetype": "text/x-python",
   "name": "python",
   "nbconvert_exporter": "python",
   "pygments_lexer": "ipython3",
   "version": "3.7.4"
  }
 },
 "nbformat": 4,
 "nbformat_minor": 2
}
