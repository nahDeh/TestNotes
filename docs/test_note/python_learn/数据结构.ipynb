{
 "cells": [
  {
   "cell_type": "markdown",
   "metadata": {},
   "source": [
    "## Python中的数据结构\n",
    "### 1. 列表\n",
    "> 列表可以想象为一个购物清单, 按顺序写下要买的东西, 随时可以写下要买的东西, 也可以划掉\n",
    "- **核心特性**:\n",
    "  - 1. 有序: 存入的元素和取出的元素顺序是一致的\n",
    "  - 2. 可重复: 可以存储多个相同的元素\n",
    "  - 3. 可变: 可以随时添加或者删除元素\n",
    "- **定义**:\n",
    "  1. 使用`[]`来定义列表, 元素之间使用`,`分隔\n",
    "    - `a = []` : 定义一个空列表\n",
    "    - `a = [1, 2, 3]` : 定义一个有元素的列表\n",
    "  2. 可以使用索引来访问列表中的元素, 索引从0开始, 格式为`列表名[索引]`\n",
    "    - `a[0]` : 访问列表中的第一个元素\n",
    "    - `a[-1]` : 访问列表中的最后一个元素\n",
    "  3. 也可以切片访问列表中的元素, 切片的格式为`[start:end:step]`\n",
    "    - `a[0:2]` : 访问列表中的第一个到第二个元素\n",
    "    - `a[1:3]` : 访问列表中的第二个到第三个元素\n",
    "    - `a[::-1]` : 访问列表中的所有元素, 倒序"
   ]
  },
  {
   "cell_type": "code",
   "execution_count": null,
   "metadata": {},
   "outputs": [],
   "source": [
    "a = [] #建立空列表\n",
    "b = [1, 2, 3] #建立有3个元素的列表\n",
    "print(a) #输出空列表\n",
    "print(b) #输出有3个元素的列表\n",
    "print(b[0]) #输出列表的第一个元素 1\n",
    "print(b[-1]) #输出列表的最后一个元 素 3\n",
    "print(b[0:2]) #输出列表的前两个元素 1, 2\n",
    "print(b[1:]) #输出列表的后两个元素 2, 3\n",
    "print(b[::-1]) #输出列表的逆序 3, 2, 1"
   ]
  },
  {
   "cell_type": "markdown",
   "metadata": {},
   "source": [
    "- 列表的增删改：\n"
   ]
  },
  {
   "cell_type": "code",
   "execution_count": null,
   "metadata": {},
   "outputs": [],
   "source": [
    "a = [1, 2, 3, 4]\n",
    "print(a)\n",
    "#增加：\n",
    "#通过append方法在列表末尾添加元素\n",
    "a.append(5)\n",
    "print(a) #[1, 2, 3, 4, 5]\n",
    "#通过insert方法在列表任意位置添加元素\n",
    "a.insert(0, 0)\n",
    "print(a) # [0, 1, 2, 3, 4, 5]\n",
    "#修改：\n",
    "#通过索引修改列表元素\n",
    "a[0] = 10\n",
    "print(a) # [10, 1, 2, 3, 4, 5]\n",
    "#删除：\n",
    "#通过del语句删除列表元素\n",
    "del a[0]\n",
    "print(a) # [1, 2, 3, 4, 5]\n",
    "#通过remove方法删除列表元素\n",
    "a.remove(4)\n",
    "print(a) # [1, 2, 3, 5]\n",
    "#通过pop方法删除列表元素\n",
    "a.pop()\n",
    "print(a)# [1, 2, 3]\n",
    "#通过clear方法清空列表\n",
    "a.clear()\n",
    "print(a)# []"
   ]
  },
  {
   "cell_type": "markdown",
   "metadata": {},
   "source": [
    "### 元组\n"
   ]
  },
  {
   "cell_type": "markdown",
   "metadata": {},
   "source": []
  }
 ],
 "metadata": {
  "kernelspec": {
   "display_name": "Python 3",
   "language": "python",
   "name": "python3"
  },
  "language_info": {
   "codemirror_mode": {
    "name": "ipython",
    "version": 3
   },
   "file_extension": ".py",
   "mimetype": "text/x-python",
   "name": "python",
   "nbconvert_exporter": "python",
   "pygments_lexer": "ipython3",
   "version": "3.13.2"
  }
 },
 "nbformat": 4,
 "nbformat_minor": 2
}
