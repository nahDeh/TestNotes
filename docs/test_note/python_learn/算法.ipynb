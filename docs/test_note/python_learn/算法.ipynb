{
 "cells": [
  {
   "cell_type": "markdown",
   "metadata": {},
   "source": [
    "## 搜索插入位置：\n",
    "- 给定一个排序数组和一个目标值，在数组中找到目标值，并返回其索引。如果目标值不存在于数组中，返回它将会被按顺序插入的位置。\n",
    "- 请必须使用时间复杂度为 O(log n) 的算法。\n",
    "\n"
   ]
  },
  {
   "cell_type": "code",
   "execution_count": 2,
   "metadata": {},
   "outputs": [
    {
     "name": "stdout",
     "output_type": "stream",
     "text": [
      "4\n"
     ]
    }
   ],
   "source": [
    "class Solution(object):\n",
    "    def searchInsert(self, nums, target):\n",
    "        \"\"\"\n",
    "        :type nums: List[int]\n",
    "        :type target: int\n",
    "        :rtype: int\n",
    "        \"\"\"\n",
    "        \n",
    "        # if target > nums[len(nums)-1]:\n",
    "        #     nums.append(target)\n",
    "        #     return len(nums)-1\n",
    "        # for i in range(len(nums)):\n",
    "        #     if nums[i] == target:\n",
    "        #         return i\n",
    "        #     if target < nums[i]:\n",
    "        #         nums.insert(i,target)\n",
    "        #         return i\n",
    "\n",
    "        #二分查找\n",
    "        left , right = 0 , len(nums)-1\n",
    "        while left <= right:\n",
    "            mid = (left + right)//2\n",
    "            if nums[mid] < target:\n",
    "                left = mid+1\n",
    "            else:\n",
    "                right = mid-1\n",
    "        return left\n",
    "nums = [1,3,5,6]\n",
    "target = 7\n",
    "solution = Solution()\n",
    "print(solution.searchInsert(nums, target))"
   ]
  },
  {
   "cell_type": "markdown",
   "metadata": {},
   "source": [
    "## 合并区间\n",
    "- 以数组 intervals 表示若干个区间的集合，其中单个区间为 intervals[i] = [starti, endi] 。请你合并所有重叠的区间，并返回 一个不重叠的区间数组，该数组需恰好覆盖输入中的所有区间 。\n"
   ]
  },
  {
   "cell_type": "code",
   "execution_count": 55,
   "metadata": {},
   "outputs": [
    {
     "name": "stdout",
     "output_type": "stream",
     "text": [
      "[[0, 5]]\n"
     ]
    }
   ],
   "source": [
    "class Solution(object):\n",
    "    def merge(self, intervals):\n",
    "        \"\"\"\n",
    "        :type intervals: List[List[int]]\n",
    "        :rtype: List[List[int]]\n",
    "        \"\"\"\n",
    "        intervals.sort(key=lambda p: p[0])  # 按照左端点从小到大排序\n",
    "        ans = []\n",
    "        for p in intervals:\n",
    "            if ans and p[0] <= ans[-1][1]:  # 可以合并\n",
    "                ans[-1][1] = max(ans[-1][1], p[1])  # 更新右端点最大值\n",
    "            else:  # 不相交，无法合并\n",
    "                ans.append(p)  # 新的合并区间\n",
    "        return ans\n",
    "\n",
    "\n",
    "\n",
    "\n",
    "intervals = [[1,4],[0,2],[3,5]]\n",
    "solution = Solution()\n",
    "print(solution.merge(intervals))"
   ]
  },
  {
   "cell_type": "markdown",
   "metadata": {},
   "source": [
    "## 反转矩阵\n",
    "- 给定一个 n × n 的二维矩阵 matrix 表示一个图像。请你将图像顺时针旋转 90 度。\n",
    "- 你必须在 原地 旋转图像，这意味着你需要直接修改输入的二维矩阵。请不要 使用另一个矩阵来旋转图像。\n",
    "### 方法一: 原地修改:\n",
    "   1. 以矩阵的四角为例, 分别命名为A,B,C,D, 旋转之后可以看到:A->D, B->A, C->B, D->C\n",
    "   ![图 0](../../../images/7d92ff714496ff44ce20552e8299c279c51a109a0aff77e229c8d62596e1b4ac.png)  \n",
    "    - 但是会有一个数会被先覆盖, 所以要先用一个变量来保存这个数, 如:\n",
    "      - temp = A   A = D   D = C   C = B   B = temp\n",
    "    2. 这样子一轮就可以完成四个数旋转,\n",
    "       1. 第一个思路: 矩阵为n*n的矩阵\n",
    "           - 第一个外圈: 从第一个数开始,到倒数第二个数结束\n",
    "           - 第二圈则从第二个数开始,到倒数第三个数结束\n",
    "           - 且只用循环n//2次\n",
    "           - 由此可以设计出:双循环条件`i<n//2, i<j<n-1-i`\n",
    "        2. 第二个思路: 矩阵为n*n的矩阵\n",
    "           - 当n为偶数时, 可以取前n/2行,前n/2列的元素为起始点\n",
    "           - 当n为奇数时, 可以取前n/2行,前n/2列的元素为起始点\n",
    "           - 双循环条件为:`i<n//2, j<n//2`"
   ]
  },
  {
   "cell_type": "code",
   "execution_count": null,
   "metadata": {},
   "outputs": [
    {
     "name": "stdout",
     "output_type": "stream",
     "text": [
      "i=0\n",
      "0\n",
      "1\n",
      "2\n",
      "i=1\n",
      "1\n",
      "[[15, 13, 2, 5], [14, 3, 4, 1], [12, 6, 8, 9], [16, 7, 10, 11]]\n"
     ]
    }
   ],
   "source": [
    "matrix = [[5,1,9,11],[2,4,8,10],[13,3,6,7],[15,14,12,16]]\n",
    "l = len(matrix)\n",
    "for i in range(l//2):\n",
    "    print(f\"i={i}\")\n",
    "    for j in range(i,l-i-1):\n",
    "        print(j)\n",
    "        temp = matrix[i][j]\n",
    "        # matrix[i][j],matrix[j][l-1-i] = matrix[j][l-1-i],matrix[l-1-i][l-1-j]\n",
    "        # matrix[l-1-i][l-1-j],matrix[l-1-j][i] = temp , matrix[l-1-i][l-1-j]\n",
    "        # 00 <- 30\n",
    "        matrix[i][j] = matrix[l-1-j][i]\n",
    "        # 30 <-33\n",
    "        matrix[l-1-j][i] = matrix[l-1-i][l-1-j]\n",
    "        #33 <- 03\n",
    "        matrix[l-1-i][l-1-j] = matrix[j][l-1-i]\n",
    "        #03 <- 00\n",
    "        matrix[j][l-1-i] = temp\n",
    "print(matrix)"
   ]
  },
  {
   "cell_type": "markdown",
   "metadata": {},
   "source": [
    "### 方法二: 翻转两次\n",
    "    - 矩阵旋转90度, 可以看为两次翻转, 如图:\n",
    "  ![图 1](../../../images/1a59e8958a234c66ddf841ee02300cb4e46c3a8ffc5c3e05c9ebd17e2ee87bcf.png)  \n",
    "    - 第一次根据斜对称轴翻转, 再进行上下翻转\n",
    "  > 注：一般地，把一个点绕 O 旋转任意 θ 角度，可以通过两个翻转操作实现。要求这两条翻转的对称轴，交点为 O 且夹角为θ/2度 , 对于本题，每个元素需要绕矩阵中心顺时针旋转 90，这可以通过关于主对角线翻转，关于垂直中轴翻转实现。这两条对称轴的交点为矩阵中心，且夹角为 45 \n",
    "\n"
   ]
  },
  {
   "cell_type": "code",
   "execution_count": 8,
   "metadata": {},
   "outputs": [
    {
     "name": "stdout",
     "output_type": "stream",
     "text": [
      "[[15, 13, 2, 5], [14, 3, 4, 1], [12, 6, 8, 9], [16, 7, 10, 11]]\n"
     ]
    }
   ],
   "source": [
    "matrix = [[5,1,9,11],[2,4,8,10],[13,3,6,7],[15,14,12,16]]\n",
    "l = len(matrix)\n",
    "for i in range(l):\n",
    "    for j in range(i): # 将对称线左侧的数与右侧的数进行交换\n",
    "        matrix[i][j], matrix[j][i] = matrix[j][i], matrix[i][j]\n",
    "#再进行左右翻转\n",
    "for i in range(l):\n",
    "    matrix[i].reverse()\n",
    "print(matrix)"
   ]
  }
 ],
 "metadata": {
  "kernelspec": {
   "display_name": "Python 3",
   "language": "python",
   "name": "python3"
  },
  "language_info": {
   "codemirror_mode": {
    "name": "ipython",
    "version": 3
   },
   "file_extension": ".py",
   "mimetype": "text/x-python",
   "name": "python",
   "nbconvert_exporter": "python",
   "pygments_lexer": "ipython3",
   "version": "3.7.4"
  }
 },
 "nbformat": 4,
 "nbformat_minor": 2
}
