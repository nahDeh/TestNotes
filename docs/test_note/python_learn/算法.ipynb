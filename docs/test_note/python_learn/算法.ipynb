{
 "cells": [
  {
   "cell_type": "markdown",
   "metadata": {},
   "source": [
    "## 搜索插入位置：\n",
    "- 给定一个排序数组和一个目标值，在数组中找到目标值，并返回其索引。如果目标值不存在于数组中，返回它将会被按顺序插入的位置。\n",
    "- 请必须使用时间复杂度为 O(log n) 的算法。\n",
    "\n"
   ]
  },
  {
   "cell_type": "code",
   "execution_count": 6,
   "metadata": {},
   "outputs": [
    {
     "name": "stdout",
     "output_type": "stream",
     "text": [
      "4\n"
     ]
    }
   ],
   "source": [
    "class Solution(object):\n",
    "    def searchInsert(self, nums, target):\n",
    "        \"\"\"\n",
    "        :type nums: List[int]\n",
    "        :type target: int\n",
    "        :rtype: int\n",
    "        \"\"\"\n",
    "        \n",
    "        # if target > nums[len(nums)-1]:\n",
    "        #     nums.append(target)\n",
    "        #     return len(nums)-1\n",
    "        # for i in range(len(nums)):\n",
    "        #     if nums[i] == target:\n",
    "        #         return i\n",
    "        #     if target < nums[i]:\n",
    "        #         nums.insert(i,target)\n",
    "        #         return i\n",
    "\n",
    "        #二分查找\n",
    "        left , right = 0 , len(nums)-1\n",
    "        while left <= right:\n",
    "            mid = (left + right)//2\n",
    "            if nums[mid] < target:\n",
    "                left = mid+1\n",
    "            else:\n",
    "                right = mid-1\n",
    "        return left\n",
    "nums = [1,3,5,6]\n",
    "target = 7\n",
    "solution = Solution()\n",
    "print(solution.searchInsert(nums, target))"
   ]
  },
  {
   "cell_type": "markdown",
   "metadata": {},
   "source": [
    "## 合并区间\n",
    "- 以数组 intervals 表示若干个区间的集合，其中单个区间为 intervals[i] = [starti, endi] 。请你合并所有重叠的区间，并返回 一个不重叠的区间数组，该数组需恰好覆盖输入中的所有区间 。\n"
   ]
  },
  {
   "cell_type": "code",
   "execution_count": 55,
   "metadata": {},
   "outputs": [
    {
     "name": "stdout",
     "output_type": "stream",
     "text": [
      "[[0, 5]]\n"
     ]
    }
   ],
   "source": [
    "class Solution(object):\n",
    "    def merge(self, intervals):\n",
    "        \"\"\"\n",
    "        :type intervals: List[List[int]]\n",
    "        :rtype: List[List[int]]\n",
    "        \"\"\"\n",
    "        intervals.sort(key=lambda p: p[0])  # 按照左端点从小到大排序\n",
    "        ans = []\n",
    "        for p in intervals:\n",
    "            if ans and p[0] <= ans[-1][1]:  # 可以合并\n",
    "                ans[-1][1] = max(ans[-1][1], p[1])  # 更新右端点最大值\n",
    "            else:  # 不相交，无法合并\n",
    "                ans.append(p)  # 新的合并区间\n",
    "        return ans\n",
    "\n",
    "\n",
    "\n",
    "\n",
    "intervals = [[1,4],[0,2],[3,5]]\n",
    "solution = Solution()\n",
    "print(solution.merge(intervals))"
   ]
  }
 ],
 "metadata": {
  "kernelspec": {
   "display_name": "Python 3",
   "language": "python",
   "name": "python3"
  },
  "language_info": {
   "codemirror_mode": {
    "name": "ipython",
    "version": 3
   },
   "file_extension": ".py",
   "mimetype": "text/x-python",
   "name": "python",
   "nbconvert_exporter": "python",
   "pygments_lexer": "ipython3",
   "version": "3.13.2"
  }
 },
 "nbformat": 4,
 "nbformat_minor": 2
}
